{
  "nbformat": 4,
  "nbformat_minor": 0,
  "metadata": {
    "colab": {
      "name": "Untitled0.ipynb",
      "provenance": [],
      "collapsed_sections": []
    },
    "kernelspec": {
      "display_name": "Python 3",
      "name": "python3"
    },
    "language_info": {
      "name": "python"
    }
  },
  "cells": [
    {
      "cell_type": "code",
      "metadata": {
        "id": "YQ_MTvQlJgCd"
      },
      "source": [
        "import tweepy\n",
        "from textblob import TextBlob\n",
        "from wordcloud import WordCloud\n",
        "import pandas as pd\n",
        "import numpy as np\n",
        "import re\n",
        "import matplotlib.pyplot as plt\n",
        "plt.style.use('fivethirtyeight')"
      ],
      "execution_count": null,
      "outputs": []
    },
    {
      "cell_type": "code",
      "metadata": {
        "id": "2SO4BqlvKYyY"
      },
      "source": [
        "#pip install google_colab"
      ],
      "execution_count": 1,
      "outputs": []
    },
    {
      "cell_type": "code",
      "metadata": {
        "colab": {
          "base_uri": "https://localhost:8080/"
        },
        "id": "OY6iPkSfcuqi",
        "outputId": "2655747e-30f5-4bea-f54f-1f45da30e8de"
      },
      "source": [
        "import tweepy\n",
        "from textblob import TextBlob\n",
        "consumer_key='JyTtkaJbslLMW6CfJcrJ2Jmbn'\n",
        "consumer_key_secret='VjG83JNLdd7884sZeEdqNP2jVAb81bKz3Hm3TyK9krGCPRvvjm'\n",
        "access_token='883208058826096640-kjDjyIPG9WI5WR103XHvcihoFSTy9JJ'\n",
        "access_token_secret='ZgeQqH6j5UwzmqiUGkNCHozOJcGcJXTeRxM0rBCzJ0FCF'\n",
        "\n",
        "auth= tweepy.OAuthHandler(consumer_key, consumer_key_secret)\n",
        "auth.set_access_token(access_token, access_token_secret)\n",
        "\n",
        "api=tweepy.API(auth)\n",
        "public_tweets=api.search('YG')\n",
        "for tweet in public_tweets:\n",
        "  print(tweet.text)\n",
        "  analysis=TextBlob(tweet.text)\n",
        "  print(analysis.sentiment)\n",
        "  "
      ],
      "execution_count": null,
      "outputs": [
        {
          "output_type": "stream",
          "text": [
            "처음에 러셀을 봤을 때는 악마 중 가장 친해질지도 모르겠다는 생각을 했고, 두 번째로 만났을 때는 악마 중 가장 반목하게 되겠다는 생각을 했다. 러셀과는 항상 극단적인 방향으로 흘러갔다.\n",
            "Sentiment(polarity=0.0, subjectivity=0.0)\n",
            "RT @jonaxxology: JONAXX CALENDAR FOR THE MONTH OF APRIL:\n",
            "\n",
            "📌 1 - Francesca Alde’s Birthday\n",
            "📌 15 - Jayden’s Birthday\n",
            "📌 20 - Daelan Tanseco's…\n",
            "Sentiment(polarity=0.0, subjectivity=0.0)\n",
            "RT @_awtspain: trisha bcoz she cheated on jayden\n",
            "Sentiment(polarity=0.0, subjectivity=0.0)\n",
            "𝗗𝗥𝗘𝗔𝗠 𝗕𝗢𝗬𝗭 #더보이즈 🏁\n",
            "𝟣𝘚𝘛 𝗠INI 𝗔LBUM [ 𝐓𝐇𝐄 𝐒𝐓𝐀𝐑𝐓 ] \n",
            "\n",
            "Are you ready to meet your favorite\n",
            "𝖢𝖮𝖶𝗕𝗢𝗬𝗭? #HITOKA and #JAYDEN.… https://t.co/IIVVabmSRw\n",
            "Sentiment(polarity=0.35, subjectivity=0.75)\n",
            "never gonna give you up\n",
            "Sentiment(polarity=0.0, subjectivity=0.0)\n",
            "happyduo pictures in thread\n",
            "Sentiment(polarity=0.0, subjectivity=0.0)\n",
            "RT @_collinskibet: jayden may be the most hated person in kenya from 2020-2021.\n",
            "like and retweet if you think it's true.\n",
            "//jkia//president…\n",
            "Sentiment(polarity=-0.01666666666666668, subjectivity=0.6166666666666667)\n",
            "RT @kifangi_002: ama nisome kwa bidii 😌😌 nipate hiyo key to success nifungue nchi 🤔🤔 juu kutegemea Jayden haiwezi https://t.co/oVD305iXnW\n",
            "Sentiment(polarity=0.15, subjectivity=0.5)\n",
            "@CrystalQuackity disown\n",
            "Sentiment(polarity=0.0, subjectivity=0.0)\n",
            "RT @kifangi_002: ama nisome kwa bidii 😌😌 nipate hiyo key to success nifungue nchi 🤔🤔 juu kutegemea Jayden haiwezi https://t.co/oVD305iXnW\n",
            "Sentiment(polarity=0.15, subjectivity=0.5)\n",
            "RT @TSLA_HiveLive: First hive inspection of the year! Very exciting! Year 8 students, Brayden, Jayden and Ethan did a superb job of checkin…\n",
            "Sentiment(polarity=0.6, subjectivity=0.7777777777777777)\n",
            "@iamjoseh_ Which one did Jayden get?\n",
            "Sentiment(polarity=0.0, subjectivity=0.0)\n",
            "@WNS_Brandon @nonodadoochris I say he’s probably still there early round 3, which is where panthers pick. I don’t t… https://t.co/RKH4eQvWcH\n",
            "Sentiment(polarity=-0.05, subjectivity=0.35)\n",
            "#UnlockOurCountry #AprilFoolsDay #NewMonth Na Jayden Angekuwa mama sasa🤔🤔\n",
            "Sentiment(polarity=0.0, subjectivity=0.0)\n",
            "RT @GreystonesColl: A proud day for GCC today as our students win 3 different awards in the @StudentEntProg.  \n",
            "Special commendation award w…\n",
            "Sentiment(polarity=0.4892857142857143, subjectivity=0.6428571428571428)\n"
          ],
          "name": "stdout"
        }
      ]
    }
  ]
}